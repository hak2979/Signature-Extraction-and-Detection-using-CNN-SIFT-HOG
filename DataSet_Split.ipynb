{
 "cells": [
  {
   "cell_type": "code",
   "execution_count": 1,
   "metadata": {},
   "outputs": [],
   "source": [
    "import cv2\n",
    "import numpy as np\n",
    "import os\n",
    "import matplotlib.pyplot as plt\n",
    "import pytesseract\n",
    "pytesseract.pytesseract.tesseract_cmd = r\"C:\\Program Files\\Tesseract-OCR\\tesseract.exe\""
   ]
  },
  {
   "cell_type": "code",
   "execution_count": 3,
   "metadata": {},
   "outputs": [
    {
     "name": "stdout",
     "output_type": "stream",
     "text": [
      "Dataset split completed: \n",
      "Train directory: train\n",
      "Test directory: test\n"
     ]
    }
   ],
   "source": [
    "import os\n",
    "import shutil\n",
    "import random\n",
    "\n",
    "def create_dataset_split(source_dir, train_dir, test_dir, split_ratio=0.8):\n",
    "\n",
    "\n",
    "    os.makedirs(train_dir, exist_ok=True)\n",
    "    os.makedirs(test_dir, exist_ok=True)\n",
    "\n",
    "    for label in os.listdir(source_dir):\n",
    "        label_path = os.path.join(source_dir, label)\n",
    "\n",
    "        if os.path.isdir(label_path):\n",
    "            images = os.listdir(label_path)\n",
    "            random.shuffle(images)\n",
    "\n",
    "            split_index = int(len(images) * split_ratio)\n",
    "\n",
    "            os.makedirs(os.path.join(train_dir, label), exist_ok=True)\n",
    "            os.makedirs(os.path.join(test_dir, label), exist_ok=True)\n",
    "\n",
    "            for img in images[:split_index]:\n",
    "                shutil.copy(os.path.join(label_path, img), os.path.join(train_dir, label, img))\n",
    "\n",
    "            for img in images[split_index:]:\n",
    "                shutil.copy(os.path.join(label_path, img), os.path.join(test_dir, label, img))\n",
    "\n",
    "    print(\"Dataset split completed: \")\n",
    "    print(f\"Train directory: {train_dir}\")\n",
    "    print(f\"Test directory: {test_dir}\")\n",
    "\n",
    "create_dataset_split('extracted_images2', 'train', 'test')"
   ]
  },
  {
   "cell_type": "code",
   "execution_count": null,
   "metadata": {},
   "outputs": [],
   "source": []
  }
 ],
 "metadata": {
  "kernelspec": {
   "display_name": "Python 3",
   "language": "python",
   "name": "python3"
  },
  "language_info": {
   "codemirror_mode": {
    "name": "ipython",
    "version": 3
   },
   "file_extension": ".py",
   "mimetype": "text/x-python",
   "name": "python",
   "nbconvert_exporter": "python",
   "pygments_lexer": "ipython3",
   "version": "3.12.5"
  }
 },
 "nbformat": 4,
 "nbformat_minor": 2
}
